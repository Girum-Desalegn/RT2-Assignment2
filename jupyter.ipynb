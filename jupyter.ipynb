{
 "cells": [
  {
   "cell_type": "code",
   "execution_count": 1,
   "id": "ce1f54dc",
   "metadata": {},
   "outputs": [],
   "source": [
    "# Import Libraries\n",
    "import rospy\n",
    "import actionlib.msg\n",
    "import assignment_2_2023.msg\n",
    "from nav_msgs.msg import Odometry\n",
    "from assignment_2_2023.msg import PlanningActionGoal\n",
    "from assignment_2_2023.msg import PlanningActionResult\n",
    "from actionlib_msgs.msg import GoalStatus"
   ]
  },
  {
   "cell_type": "code",
   "execution_count": 2,
   "id": "1ee12e2a",
   "metadata": {},
   "outputs": [],
   "source": [
    "%matplotlib widget\n",
    "import matplotlib.pyplot as plt\n",
    "import ipywidgets as widgets\n",
    "from matplotlib.animation import FuncAnimation"
   ]
  },
  {
   "cell_type": "code",
   "execution_count": 3,
   "id": "ff5111a8",
   "metadata": {},
   "outputs": [],
   "source": [
    "rospy.init_node('action_client') "
   ]
  },
  {
   "cell_type": "code",
   "execution_count": 4,
   "id": "a1cda24c",
   "metadata": {},
   "outputs": [],
   "source": [
    "x_input_position = widgets.FloatText(value=7, description =\"X_GOAL\",disable=False)\n",
    "y_input_position = widgets.FloatText(value=7, description =\"Y_GOAL\",disable=False)\n",
    "button= widgets.Button(description=\"SEND\")\n",
    "cancel_button= widgets.Button(description=\"CANCEL\")\n",
    "resume_button= widgets.Button(description=\"RESUME\")"
   ]
  },
  {
   "cell_type": "code",
   "execution_count": 5,
   "id": "24bb5832",
   "metadata": {},
   "outputs": [],
   "source": [
    "action_client = actionlib.SimpleActionClient('/reaching_goal', assignment_2_2023.msg.PlanningAction)\n",
    "\n",
    "def action(e):\n",
    "\n",
    "    global action_client,x_input_position,y_input_position\n",
    "    \n",
    "    action_client.wait_for_server()           # wait for the server to be started\n",
    "    status_goal = False\n",
    "\n",
    "\n",
    "    # Convert the data type of the numbers from string to float\n",
    "    x_float = float(x_input_position.value)\n",
    "    y_float = float(y_input_position.value)\n",
    "            \n",
    "    # creat the goal to send to the server\n",
    "    goal = assignment_2_2023.msg.PlanningGoal()\n",
    "    goal.target_pose.pose.position.x = x_float\n",
    "    goal.target_pose.pose.position.y = y_float\n",
    "    action_client.send_goal(goal)                      # send the goal data to the action server\n",
    "    status_goal = True"
   ]
  },
  {
   "cell_type": "code",
   "execution_count": 6,
   "id": "ba3a4913",
   "metadata": {},
   "outputs": [],
   "source": [
    "def cancel(e):\n",
    "  \n",
    "    # create the action client\n",
    "    global action_client\n",
    "    \n",
    "    action_client.wait_for_server()  # wait for the server to be started\n",
    "    action_client.cancel_goal()      # cancel the goal\n",
    "    status_goal = False     "
   ]
  },
  {
   "cell_type": "code",
   "execution_count": 7,
   "id": "e6f80fc2",
   "metadata": {},
   "outputs": [],
   "source": [
    "button.on_click(action)\n",
    "cancel_button.on_click(cancel)\n",
    "resume_button.on_click(action)"
   ]
  },
  {
   "cell_type": "code",
   "execution_count": 8,
   "id": "207790e6",
   "metadata": {
    "scrolled": true
   },
   "outputs": [
    {
     "data": {
      "application/vnd.jupyter.widget-view+json": {
       "model_id": "e3aa8811e9f2459984229c7cfaaea1e9",
       "version_major": 2,
       "version_minor": 0
      },
      "text/plain": [
       "Button(description='SEND', style=ButtonStyle())"
      ]
     },
     "metadata": {},
     "output_type": "display_data"
    },
    {
     "data": {
      "application/vnd.jupyter.widget-view+json": {
       "model_id": "cb81bc6d2fe94f5f94208d30c8c3dd08",
       "version_major": 2,
       "version_minor": 0
      },
      "text/plain": [
       "Button(description='RESUME', style=ButtonStyle())"
      ]
     },
     "metadata": {},
     "output_type": "display_data"
    },
    {
     "data": {
      "application/vnd.jupyter.widget-view+json": {
       "model_id": "7ae920430bf34e3cbb8f96838e61a345",
       "version_major": 2,
       "version_minor": 0
      },
      "text/plain": [
       "Button(description='CANCEL', style=ButtonStyle())"
      ]
     },
     "metadata": {},
     "output_type": "display_data"
    },
    {
     "data": {
      "application/vnd.jupyter.widget-view+json": {
       "model_id": "f2662cbf93f6421aaa8b19a92cb16fbd",
       "version_major": 2,
       "version_minor": 0
      },
      "text/plain": [
       "FloatText(value=7.0, description='X_GOAL')"
      ]
     },
     "metadata": {},
     "output_type": "display_data"
    },
    {
     "data": {
      "application/vnd.jupyter.widget-view+json": {
       "model_id": "a134aea3a5c0438d8de835c437467985",
       "version_major": 2,
       "version_minor": 0
      },
      "text/plain": [
       "FloatText(value=7.0, description='Y_GOAL')"
      ]
     },
     "metadata": {},
     "output_type": "display_data"
    }
   ],
   "source": [
    "display(button,resume_button,cancel_button,x_input_position,y_input_position)\n"
   ]
  },
  {
   "cell_type": "code",
   "execution_count": 9,
   "id": "37834b55",
   "metadata": {
    "scrolled": true
   },
   "outputs": [],
   "source": [
    "class Visualiser:\n",
    "\n",
    "    def __init__(self):\n",
    "        self.fig, self.ax = plt.subplots()\n",
    "        self.ln, = plt.plot([], [], 'ro')\n",
    "        self.x_data, self.y_data = [] , []\n",
    "        self.x_target, self.y_target= [] , []\n",
    "        \n",
    "        # to draw a bar graph, we need initialized \n",
    "        self.reached = 0\n",
    "        self.cancelled = 0\n",
    "        self.fig1, self.ax1 = plt.subplots()\n",
    "        self.labels = ['Reached', 'Not Reached']\n",
    "        self.values = [self.reached, self.cancelled]\n",
    "        \n",
    "        \n",
    "    def plot_init(self):\n",
    "        self.ax.set_xlim(0, 10)\n",
    "        self.ax.set_ylim(0, 10)\n",
    "        self.ax.plot(self.x_target, self.y_target, 'gx', label='Target Point')\n",
    "        self.ax.plot(self.x_data,self.y_data, 'ro',label='Robot Path')\n",
    "        self.ax.legend()\n",
    "        return self.ln,\n",
    "    \n",
    "    def bar_init(self):\n",
    "        self.ax1.bar(self.labels, self.values)\n",
    "        self.ax1.set_ylabel('Count')\n",
    "        self.ax1.set_title('Target Status')\n",
    "        \n",
    "    def odom_callback(self, msg):\n",
    "        self.y_data.append(msg.pose.pose.position.y)\n",
    "        self.x_data.append(msg.pose.pose.position.x)\n",
    "    def target(self,msg):\n",
    "        self.x_target = msg.goal.target_pose.pose.position.x\n",
    "        self.y_target = msg.goal.target_pose.pose.position.y     \n",
    "    def update_plot(self, frame):\n",
    "        self.ln.set_data(self.x_data, self.y_data)\n",
    "        self.ax.plot(self.x_target,self.y_target, 'gx')\n",
    "        return self.ln,77\n",
    "    def reached_callback(self, message):    \n",
    "        if message.status.status == actionlib.GoalStatus.SUCCEEDED:\n",
    "            self.reached +=1\n",
    "        elif message.status.status == actionlib.GoalStatus.PREEMPTED:\n",
    "            self.cancelled +=1\n",
    "    def update_bar(self,frame):\n",
    "        self.values = [self.reached, self.cancelled]\n",
    "        self.ax1.bar(self.labels, self.values, color = 'purple')\n",
    "        self.ax1.set_ylim([0, max(vis.reached, vis.cancelled) + 1])\n",
    "        "
   ]
  },
  {
   "cell_type": "code",
   "execution_count": 10,
   "id": "eeb9546d",
   "metadata": {
    "scrolled": true
   },
   "outputs": [
    {
     "data": {
      "application/vnd.jupyter.widget-view+json": {
       "model_id": "72a8eb2f1bbe4e09a2068e83b72b9bcf",
       "version_major": 2,
       "version_minor": 0
      },
      "text/plain": [
       "Canvas(toolbar=Toolbar(toolitems=[('Home', 'Reset original view', 'home', 'home'), ('Back', 'Back to previous …"
      ]
     },
     "metadata": {},
     "output_type": "display_data"
    },
    {
     "data": {
      "application/vnd.jupyter.widget-view+json": {
       "model_id": "79f543055679457aa0880ebf09483df1",
       "version_major": 2,
       "version_minor": 0
      },
      "text/plain": [
       "Canvas(toolbar=Toolbar(toolitems=[('Home', 'Reset original view', 'home', 'home'), ('Back', 'Back to previous …"
      ]
     },
     "metadata": {},
     "output_type": "display_data"
    }
   ],
   "source": [
    "vis = Visualiser()\n",
    "sub = rospy.Subscriber('/odom', Odometry, vis.odom_callback)\n",
    "tar = rospy.Subscriber('/reaching_goal/goal', PlanningActionGoal, vis.target)\n",
    "reach = rospy.Subscriber('/reaching_goal/result',PlanningActionResult, vis.reached_callback)\n",
    "ani1 = FuncAnimation(vis.fig, vis.update_plot, init_func=vis.plot_init)\n",
    "ani2 = FuncAnimation(vis.fig1, vis.update_bar, init_func=vis.bar_init)\n",
    "plt.show(block=True) \n"
   ]
  }
 ],
 "metadata": {
  "kernelspec": {
   "display_name": "Python 3 (ipykernel)",
   "language": "python",
   "name": "python3"
  },
  "language_info": {
   "codemirror_mode": {
    "name": "ipython",
    "version": 3
   },
   "file_extension": ".py",
   "mimetype": "text/x-python",
   "name": "python",
   "nbconvert_exporter": "python",
   "pygments_lexer": "ipython3",
   "version": "3.8.5"
  }
 },
 "nbformat": 4,
 "nbformat_minor": 5
}
